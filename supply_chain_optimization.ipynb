{
 "cells": [
  {
   "cell_type": "markdown",
   "metadata": {},
   "source": [
    "# Supply Chain Optimization"
   ]
  },
  {
   "cell_type": "code",
   "execution_count": 25,
   "metadata": {},
   "outputs": [],
   "source": [
    "import random\n",
    "from collections import Counter\n",
    "import numpy as np \n",
    "from pulp import *\n",
    "\n",
    "# Change seed for replication\n",
    "random.seed(999)"
   ]
  },
  {
   "cell_type": "markdown",
   "metadata": {},
   "source": [
    "## Simulating Data"
   ]
  },
  {
   "cell_type": "code",
   "execution_count": 6,
   "metadata": {},
   "outputs": [],
   "source": [
    "plant_list = [\"Plant One\", \"Plant Two\", \n",
    "            \"Plant Three\", \"Plant Four\",\n",
    "            \"Plant Five\", \"Plant Six\"]"
   ]
  },
  {
   "cell_type": "markdown",
   "metadata": {},
   "source": [
    "### Manufacturing Costs "
   ]
  },
  {
   "cell_type": "code",
   "execution_count": 35,
   "metadata": {},
   "outputs": [
    {
     "data": {
      "text/plain": [
       "array([['Plant One', '3'],\n",
       "       ['Plant Two', '20'],\n",
       "       ['Plant Three', '7'],\n",
       "       ['Plant Four', '12'],\n",
       "       ['Plant Five', '8'],\n",
       "       ['Plant Six', '16']], dtype='<U21')"
      ]
     },
     "execution_count": 35,
     "metadata": {},
     "output_type": "execute_result"
    }
   ],
   "source": [
    "# Initializes Manufacturing Costs range\n",
    "i, j = 0, 20\n",
    "manufacturing_costs = {x : random.randint(i, j) for x in plant_list}\n",
    "manufacturing_costs_data = list(manufacturing_costs.items())\n",
    "manufacturing_costs_array = np.array(manufacturing_costs_data)\n",
    "manufacturing_costs_array"
   ]
  },
  {
   "cell_type": "markdown",
   "metadata": {},
   "source": [
    "### Freight Costs\n"
   ]
  },
  {
   "cell_type": "code",
   "execution_count": 63,
   "metadata": {},
   "outputs": [
    {
     "data": {
      "text/plain": [
       "array([['Plant One', '36258'],\n",
       "       ['Plant Two', '11245'],\n",
       "       ['Plant Three', '13730'],\n",
       "       ['Plant Four', '14922'],\n",
       "       ['Plant Five', '6689'],\n",
       "       ['Plant Six', '3972']], dtype='<U21')"
      ]
     },
     "execution_count": 63,
     "metadata": {},
     "output_type": "execute_result"
    }
   ],
   "source": [
    "# Initializes Freight Costs range\n",
    "i, j = 0, 40000\n",
    "freight_costs = {x : random.randint(i, j) for x in plant_list}\n",
    "freight_costs_data = list(freight_costs.items())\n",
    "freight_costs_array = np.array(freight_costs_data)\n",
    "freight_costs_array"
   ]
  },
  {
   "cell_type": "markdown",
   "metadata": {},
   "source": [
    "### Variable Costs\n",
    "\n",
    "Variable costs are freight costs divided by 1000 plus manufacturing costs"
   ]
  },
  {
   "cell_type": "code",
   "execution_count": 62,
   "metadata": {},
   "outputs": [
    {
     "data": {
      "text/plain": [
       "array([['Plant One', '23.366'],\n",
       "       ['Plant Two', '2.77'],\n",
       "       ['Plant Three', '10.768'],\n",
       "       ['Plant Four', '29.728'],\n",
       "       ['Plant Five', '7.147'],\n",
       "       ['Plant Six', '27.942']], dtype='<U32')"
      ]
     },
     "execution_count": 62,
     "metadata": {},
     "output_type": "execute_result"
    }
   ],
   "source": [
    "variable_costs_keys = [key[0] for key in freight_costs_data]\n",
    "variable_costs_values = [value[1] for value in freight_costs_data]\n",
    "var_int = 1000\n",
    "variable_costs_values = [x / var_int for x in variable_costs_values]\n",
    "variable_costs = dict(zip(variable_costs_keys, variable_costs_values))\n",
    "variable_costs_data = list(variable_costs.items())\n",
    "variable_costs_array = np.array(variable_costs_data)\n",
    "variable_costs_array\n"
   ]
  },
  {
   "cell_type": "markdown",
   "metadata": {},
   "source": [
    "### Fixed Costs"
   ]
  },
  {
   "cell_type": "code",
   "execution_count": 64,
   "metadata": {},
   "outputs": [
    {
     "data": {
      "text/plain": [
       "array([['Plant One', '4700'],\n",
       "       ['Plant Two', '3133'],\n",
       "       ['Plant Three', '7243'],\n",
       "       ['Plant Four', '8134'],\n",
       "       ['Plant Five', '5308'],\n",
       "       ['Plant Six', '4208']], dtype='<U21')"
      ]
     },
     "execution_count": 64,
     "metadata": {},
     "output_type": "execute_result"
    }
   ],
   "source": [
    "# Initializes Fixed Costs range\n",
    "i, j = 3000, 10000\n",
    "fixed_costs = {x : random.randint(i, j) for x in plant_list}\n",
    "fixed_costs_data = list(fixed_costs.items())\n",
    "fixed_costs_array = np.array(fixed_costs_data)\n",
    "fixed_costs_array"
   ]
  },
  {
   "cell_type": "markdown",
   "metadata": {},
   "source": [
    "### Plants Capacity"
   ]
  },
  {
   "cell_type": "code",
   "execution_count": 65,
   "metadata": {},
   "outputs": [
    {
     "data": {
      "text/plain": [
       "array([['Plant One', '1506'],\n",
       "       ['Plant Two', '2421'],\n",
       "       ['Plant Three', '2918'],\n",
       "       ['Plant Four', '1887'],\n",
       "       ['Plant Five', '2412'],\n",
       "       ['Plant Six', '907']], dtype='<U21')"
      ]
     },
     "execution_count": 65,
     "metadata": {},
     "output_type": "execute_result"
    }
   ],
   "source": [
    "# Initializes Plant Capacity range\n",
    "i, j = 500, 3000\n",
    "plant_capacity = {x : random.randint(i, j) for x in plant_list}\n",
    "plant_capacity_data = list(plant_capacity.items())\n",
    "plant_capacity_array = np.array(plant_capacity_data)\n",
    "plant_capacity_array"
   ]
  },
  {
   "cell_type": "markdown",
   "metadata": {},
   "source": [
    "### Demand"
   ]
  },
  {
   "cell_type": "code",
   "execution_count": 68,
   "metadata": {},
   "outputs": [
    {
     "data": {
      "text/plain": [
       "array([['Plant One', '39061'],\n",
       "       ['Plant Two', '154721'],\n",
       "       ['Plant Three', '208187'],\n",
       "       ['Plant Four', '283723'],\n",
       "       ['Plant Five', '171565'],\n",
       "       ['Plant Six', '267560']], dtype='<U21')"
      ]
     },
     "execution_count": 68,
     "metadata": {},
     "output_type": "execute_result"
    }
   ],
   "source": [
    "# Initializes Demand range\n",
    "i, j = 9000, 300000\n",
    "demand = {x : random.randint(i, j) for x in plant_list}\n",
    "demand_data = list(demand.items())\n",
    "demand_array = np.array(demand_data)\n",
    "demand_array"
   ]
  },
  {
   "cell_type": "markdown",
   "metadata": {},
   "source": [
    "## Optimization"
   ]
  },
  {
   "cell_type": "markdown",
   "metadata": {},
   "source": [
    "### Defining Decision Variables"
   ]
  }
 ],
 "metadata": {
  "interpreter": {
   "hash": "6d845e572d16bd3c40c94eb09f2b57d3c140215500dc2d55144967fa56540164"
  },
  "kernelspec": {
   "display_name": "Python 3.8.5 ('main')",
   "language": "python",
   "name": "python3"
  },
  "language_info": {
   "codemirror_mode": {
    "name": "ipython",
    "version": 3
   },
   "file_extension": ".py",
   "mimetype": "text/x-python",
   "name": "python",
   "nbconvert_exporter": "python",
   "pygments_lexer": "ipython3",
   "version": "3.8.5"
  },
  "orig_nbformat": 4
 },
 "nbformat": 4,
 "nbformat_minor": 2
}
