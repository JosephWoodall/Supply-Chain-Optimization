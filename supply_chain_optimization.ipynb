{
 "cells": [
  {
   "cell_type": "markdown",
   "metadata": {},
   "source": [
    "# Supply Chain Optimization"
   ]
  },
  {
   "cell_type": "code",
   "execution_count": 4,
   "metadata": {},
   "outputs": [],
   "source": [
    "import random\n",
    "import matplotlib.pyplot as plt\n",
    "import numpy as np \n",
    "\n",
    "\n",
    "# Change seed for replication\n",
    "random.seed(999)"
   ]
  },
  {
   "cell_type": "markdown",
   "metadata": {},
   "source": [
    "## Simulating Data"
   ]
  },
  {
   "cell_type": "code",
   "execution_count": 5,
   "metadata": {},
   "outputs": [],
   "source": [
    "plant_list = [\"Plant One\", \"Plant Two\", \n",
    "            \"Plant Three\", \"Plant Four\",\n",
    "            \"Plant Five\", \"Plant Six\"]"
   ]
  },
  {
   "cell_type": "markdown",
   "metadata": {},
   "source": [
    "### Manufacturing Costs "
   ]
  },
  {
   "cell_type": "code",
   "execution_count": 6,
   "metadata": {},
   "outputs": [
    {
     "data": {
      "text/plain": [
       "array([['Plant One', '2'],\n",
       "       ['Plant Two', '18'],\n",
       "       ['Plant Three', '18'],\n",
       "       ['Plant Four', '17'],\n",
       "       ['Plant Five', '15'],\n",
       "       ['Plant Six', '15']], dtype='<U21')"
      ]
     },
     "execution_count": 6,
     "metadata": {},
     "output_type": "execute_result"
    }
   ],
   "source": [
    "# Initializes Manufacturing Costs range\n",
    "i, j = 0, 20\n",
    "manufacturing_costs = {x : random.randint(i, j) for x in plant_list}\n",
    "manufacturing_costs_data = list(manufacturing_costs.items())\n",
    "manufacturing_costs_array = np.array(manufacturing_costs_data)\n",
    "manufacturing_costs_array"
   ]
  },
  {
   "cell_type": "markdown",
   "metadata": {},
   "source": [
    "### Freight Costs\n"
   ]
  },
  {
   "cell_type": "code",
   "execution_count": 7,
   "metadata": {},
   "outputs": [
    {
     "data": {
      "text/plain": [
       "array([['Plant One', '8655'],\n",
       "       ['Plant Two', '20848'],\n",
       "       ['Plant Three', '6384'],\n",
       "       ['Plant Four', '12320'],\n",
       "       ['Plant Five', '9775'],\n",
       "       ['Plant Six', '17339']], dtype='<U21')"
      ]
     },
     "execution_count": 7,
     "metadata": {},
     "output_type": "execute_result"
    }
   ],
   "source": [
    "# Initializes Freight Costs range\n",
    "i, j = 0, 40000\n",
    "freight_costs = {x : random.randint(i, j) for x in plant_list}\n",
    "freight_costs_data = list(freight_costs.items())\n",
    "freight_costs_array = np.array(freight_costs_data)\n",
    "freight_costs_array"
   ]
  },
  {
   "cell_type": "markdown",
   "metadata": {},
   "source": [
    "### Variable Costs\n",
    "\n",
    "Variable costs are freight costs divided by 1000 plus manufacturing costs"
   ]
  },
  {
   "cell_type": "code",
   "execution_count": 8,
   "metadata": {},
   "outputs": [
    {
     "data": {
      "text/plain": [
       "array([['Plant One', '8.655'],\n",
       "       ['Plant Two', '20.848'],\n",
       "       ['Plant Three', '6.384'],\n",
       "       ['Plant Four', '12.32'],\n",
       "       ['Plant Five', '9.775'],\n",
       "       ['Plant Six', '17.339']], dtype='<U32')"
      ]
     },
     "execution_count": 8,
     "metadata": {},
     "output_type": "execute_result"
    }
   ],
   "source": [
    "variable_costs_keys = [key[0] for key in freight_costs_data]\n",
    "variable_costs_values = [value[1] for value in freight_costs_data]\n",
    "var_int = 1000\n",
    "variable_costs_values = [x / var_int for x in variable_costs_values]\n",
    "variable_costs = dict(zip(variable_costs_keys, variable_costs_values))\n",
    "variable_costs_data = list(variable_costs.items())\n",
    "variable_costs_array = np.array(variable_costs_data)\n",
    "variable_costs_array\n"
   ]
  },
  {
   "cell_type": "markdown",
   "metadata": {},
   "source": [
    "### Fixed Costs"
   ]
  },
  {
   "cell_type": "code",
   "execution_count": 9,
   "metadata": {},
   "outputs": [
    {
     "data": {
      "text/plain": [
       "array([['Plant One', '7677'],\n",
       "       ['Plant Two', '3435'],\n",
       "       ['Plant Three', '8751'],\n",
       "       ['Plant Four', '9384'],\n",
       "       ['Plant Five', '5078'],\n",
       "       ['Plant Six', '6260']], dtype='<U21')"
      ]
     },
     "execution_count": 9,
     "metadata": {},
     "output_type": "execute_result"
    }
   ],
   "source": [
    "# Initializes Fixed Costs range\n",
    "i, j = 3000, 10000\n",
    "fixed_costs = {x : random.randint(i, j) for x in plant_list}\n",
    "fixed_costs_data = list(fixed_costs.items())\n",
    "fixed_costs_array = np.array(fixed_costs_data)\n",
    "fixed_costs_array"
   ]
  },
  {
   "cell_type": "markdown",
   "metadata": {},
   "source": [
    "### Plants Capacity"
   ]
  },
  {
   "cell_type": "code",
   "execution_count": 10,
   "metadata": {},
   "outputs": [
    {
     "data": {
      "text/plain": [
       "array([['Plant One', '1428'],\n",
       "       ['Plant Two', '2147'],\n",
       "       ['Plant Three', '806'],\n",
       "       ['Plant Four', '1605'],\n",
       "       ['Plant Five', '596'],\n",
       "       ['Plant Six', '1319']], dtype='<U21')"
      ]
     },
     "execution_count": 10,
     "metadata": {},
     "output_type": "execute_result"
    }
   ],
   "source": [
    "# Initializes Plant Capacity range\n",
    "i, j = 500, 3000\n",
    "plant_capacity = {x : random.randint(i, j) for x in plant_list}\n",
    "plant_capacity_data = list(plant_capacity.items())\n",
    "plant_capacity_array = np.array(plant_capacity_data)\n",
    "plant_capacity_array"
   ]
  },
  {
   "cell_type": "markdown",
   "metadata": {},
   "source": [
    "### Demand"
   ]
  },
  {
   "cell_type": "code",
   "execution_count": 11,
   "metadata": {},
   "outputs": [
    {
     "data": {
      "text/plain": [
       "array([['Plant One', '271273'],\n",
       "       ['Plant Two', '118267'],\n",
       "       ['Plant Three', '106676'],\n",
       "       ['Plant Four', '182399'],\n",
       "       ['Plant Five', '95463'],\n",
       "       ['Plant Six', '54333']], dtype='<U21')"
      ]
     },
     "execution_count": 11,
     "metadata": {},
     "output_type": "execute_result"
    }
   ],
   "source": [
    "# Initializes Demand range\n",
    "i, j = 9000, 300000\n",
    "demand = {x : random.randint(i, j) for x in plant_list}\n",
    "demand_data = list(demand.items())\n",
    "demand_array = np.array(demand_data)\n",
    "demand_array"
   ]
  },
  {
   "cell_type": "markdown",
   "metadata": {},
   "source": [
    "## Visualizing the arrays"
   ]
  },
  {
   "cell_type": "markdown",
   "metadata": {},
   "source": [
    "## Optimization Technique: Linear Programming\n",
    "\n",
    "Linear programming is also known as linear optimization, which is a mathematical programming technique used to obtain the best result/outcome, such as maximum x or minimum x, in a model where its requirements are represented by linear relationships. Linear programming uses the following to obtain this result:\n",
    "- Objective function: the main aim of the problem, and is used to maximize or minimize. \n",
    "- Decision variables: the variables used to decide the output as decision variables; they are the unknowns of the mathematical programming model. \n",
    "- Constraints: these are the restrictions on the decision variables; where the limitations on the decision variables given under subject to the constraints in the linear programming model\n",
    "- Non-negatively restrictions: the values for decision variables are always greater than or equal to 0\n",
    "\n",
    "#### BUT, the problem with this, is that it's not very scalable even small organizations may have a multi-tier/echelon supply chain network involving various stages of any given supply chain network. Let's assume we have N stages between the raw producer of any given material and the end customer. These stages might have M varying lead times, which is the time it takes for the output of one stage of N stages to arrive and become the input for the next stage in our N stages, which has complexity O(N) complexity of ensuring the next stage has supply to meet the demand."
   ]
  },
  {
   "cell_type": "markdown",
   "metadata": {},
   "source": [
    "### Defining Objective Function, Decision Variables, and Constraints"
   ]
  },
  {
   "cell_type": "code",
   "execution_count": null,
   "metadata": {},
   "outputs": [],
   "source": []
  }
 ],
 "metadata": {
  "interpreter": {
   "hash": "6d845e572d16bd3c40c94eb09f2b57d3c140215500dc2d55144967fa56540164"
  },
  "kernelspec": {
   "display_name": "Python 3.8.5 ('main')",
   "language": "python",
   "name": "python3"
  },
  "language_info": {
   "codemirror_mode": {
    "name": "ipython",
    "version": 3
   },
   "file_extension": ".py",
   "mimetype": "text/x-python",
   "name": "python",
   "nbconvert_exporter": "python",
   "pygments_lexer": "ipython3",
   "version": "3.8.5"
  },
  "orig_nbformat": 4
 },
 "nbformat": 4,
 "nbformat_minor": 2
}
